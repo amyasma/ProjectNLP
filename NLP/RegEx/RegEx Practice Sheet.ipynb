{
 "cells": [
  {
   "cell_type": "markdown",
   "id": "8f9e4bda-0f95-40f0-8ec0-3e498a299543",
   "metadata": {},
   "source": [
    "# Regex Practice Sheet\n",
    "Here’s a regex practice sheet with various questions that cover different regex functions and features. This practice sheet includes questions related to character classes, anchors, quantifiers, groups, backreferences, and flags.\n",
    "\n"
   ]
  },
  {
   "cell_type": "code",
   "execution_count": 107,
   "id": "256eab85-bf7c-4328-bfa8-c0cb9a4d1fc4",
   "metadata": {},
   "outputs": [],
   "source": [
    "import re"
   ]
  },
  {
   "cell_type": "markdown",
   "id": "fa127028-2477-4e93-b6e8-f432a78c74fe",
   "metadata": {},
   "source": [
    "#### 1. Character Classes\n"
   ]
  },
  {
   "cell_type": "markdown",
   "id": "78fea442-2a2b-4b0d-a43a-46614c544b1c",
   "metadata": {},
   "source": [
    "**Question 1**: Write a regex pattern that matches any vowel (a, e, i, o, u) in the string `\"Hello World!\"`."
   ]
  },
  {
   "cell_type": "code",
   "execution_count": null,
   "id": "5bbe6920-487b-47a0-9001-419f2cabc8c6",
   "metadata": {},
   "outputs": [],
   "source": []
  },
  {
   "cell_type": "markdown",
   "id": "e79d0a74-188b-47c9-a733-050e58361ad6",
   "metadata": {},
   "source": [
    "**Question 2**: Create a regex pattern to find all digits in the string `\"My phone number is 123-456-7890.\"`."
   ]
  },
  {
   "cell_type": "code",
   "execution_count": null,
   "id": "11c5bf95-3f9d-4b6e-9772-90d4551d4070",
   "metadata": {},
   "outputs": [],
   "source": []
  },
  {
   "cell_type": "markdown",
   "id": "550582b7-e2b4-40b9-a0c4-7b949909948b",
   "metadata": {},
   "source": [
    "#### 2. Anchors"
   ]
  },
  {
   "cell_type": "markdown",
   "id": "a8a620c4-df14-4357-8692-a3807c8aff6a",
   "metadata": {},
   "source": [
    "**Question 3**: Write a regex pattern that checks if a string starts with \"Start\" in the string `\"Start your journey.\"`."
   ]
  },
  {
   "cell_type": "code",
   "execution_count": null,
   "id": "b7a8b06d-223f-4c73-984b-f70894cd62b5",
   "metadata": {},
   "outputs": [],
   "source": []
  },
  {
   "cell_type": "markdown",
   "id": "f9be60bd-ca0e-4f06-bf88-96a681b764c8",
   "metadata": {},
   "source": [
    "**Question 4**: Create a regex pattern to find any word that ends with \"ed\" in the string `\"He walked and jumped.\"`.\n"
   ]
  },
  {
   "cell_type": "code",
   "execution_count": null,
   "id": "156a9db3-f7d0-409b-911a-b2b5dcb2f6c1",
   "metadata": {},
   "outputs": [],
   "source": []
  },
  {
   "cell_type": "markdown",
   "id": "03ddfd7a-5958-402b-a65e-f84cae142a4b",
   "metadata": {},
   "source": [
    "#### 3. Quantifiers\n",
    "**Question 5**: Write a regex pattern that matches one or more digits in the string `\"Item 12345 costs $10.\"`.\n"
   ]
  },
  {
   "cell_type": "code",
   "execution_count": null,
   "id": "e76dfd13-cd3b-4f1f-826c-1998b0506b2f",
   "metadata": {},
   "outputs": [],
   "source": [
    "pattern = "
   ]
  },
  {
   "cell_type": "markdown",
   "id": "b689d373-6ac7-4841-b995-8d7da099883c",
   "metadata": {},
   "source": [
    "**Question 6**: Create a regex pattern that matches zero or more whitespace characters in the string `\"This   is a test.\"`.\n"
   ]
  },
  {
   "cell_type": "code",
   "execution_count": null,
   "id": "86cd5300-f1fa-4c71-8b76-93b931df18d7",
   "metadata": {},
   "outputs": [],
   "source": []
  },
  {
   "cell_type": "markdown",
   "id": "5b2eb727-e520-496f-ac07-cb2cc8726a14",
   "metadata": {},
   "source": [
    "#### 4. Groups and Capturing\n",
    "**Question 7**: Write a regex pattern that captures a date in the format `MM-DD-YYYY` in the string `\"Today's date is 10-04-2024.\"`."
   ]
  },
  {
   "cell_type": "code",
   "execution_count": null,
   "id": "a66c2a79-d2b2-48fa-8dd1-97eb3a245a96",
   "metadata": {},
   "outputs": [],
   "source": []
  },
  {
   "cell_type": "markdown",
   "id": "bc75ea23-baf6-4844-85a3-5192f749cc6e",
   "metadata": {},
   "source": [
    "**Question 8**: Create a regex pattern that captures both the first and last name from the string `\"John Doe\"`.\n"
   ]
  },
  {
   "cell_type": "code",
   "execution_count": null,
   "id": "875123a8-d537-40cc-b9d6-96f201eb6dca",
   "metadata": {},
   "outputs": [],
   "source": []
  },
  {
   "cell_type": "markdown",
   "id": "45556d45-1e4d-47fe-b2ea-6928e4b4b87e",
   "metadata": {},
   "source": [
    "#### 5. Backreferences\n",
    "**Question 9**: Write a regex pattern that matches repeated words in the string `\"It was was a sunny day.\"`."
   ]
  },
  {
   "cell_type": "code",
   "execution_count": null,
   "id": "75620704-2f94-4989-951a-a651d604d3ff",
   "metadata": {},
   "outputs": [],
   "source": [
    "\n"
   ]
  },
  {
   "cell_type": "markdown",
   "id": "4076e44c-2bfe-40a0-899c-ac05ee13e288",
   "metadata": {},
   "source": [
    "**Question 10**: Create a regex pattern to find words that contain a repeated letter (e.g., \"balloon\") in the string `\"I saw a balloon and a cat.\"`."
   ]
  },
  {
   "cell_type": "code",
   "execution_count": null,
   "id": "b6e6aee9-2a23-4732-9019-6228a32136c8",
   "metadata": {},
   "outputs": [],
   "source": []
  },
  {
   "cell_type": "markdown",
   "id": "b24631f3-a6b1-4c07-ae40-d43716d2cf30",
   "metadata": {},
   "source": [
    "#### 6. Flags\n",
    "**Question 11**: Write a regex pattern that matches the word \"hello\" in a case-insensitive manner in the string `\"Hello, world!\"`."
   ]
  },
  {
   "cell_type": "code",
   "execution_count": null,
   "id": "bd375011-9da9-4100-a54f-f3b82ff68d85",
   "metadata": {},
   "outputs": [],
   "source": []
  },
  {
   "cell_type": "markdown",
   "id": "35d57fc4-26b9-46db-b0e1-2ef3b554df83",
   "metadata": {},
   "source": [
    "**Question 12**: Create a regex pattern to match the beginning of each line in a multi-line string using the `(?m)` flag.\n"
   ]
  },
  {
   "cell_type": "code",
   "execution_count": null,
   "id": "9c4dcd7b-0711-47a6-861e-113dd3f1bffa",
   "metadata": {},
   "outputs": [],
   "source": []
  },
  {
   "cell_type": "markdown",
   "id": "7ca6c4d3-12fa-417f-8df7-3c1e8289ea2f",
   "metadata": {},
   "source": [
    "#### 7. Assertions\n",
    "**Question 13**: Write a regex pattern that matches \"cat\" only if it is followed by \"fish\" in the string `\"The catfish is swimming.\"`.\n"
   ]
  },
  {
   "cell_type": "code",
   "execution_count": null,
   "id": "27074b68-b07b-431b-8d17-0ca39844bae1",
   "metadata": {},
   "outputs": [],
   "source": []
  },
  {
   "cell_type": "markdown",
   "id": "6f4d751e-b1b8-43a5-817a-d3a9e4f1a007",
   "metadata": {},
   "source": [
    "**Question 14**: Create a regex pattern that matches a word that is preceded by \"not\" in the string `\"I do not like ice cream.\"`.\n"
   ]
  },
  {
   "cell_type": "code",
   "execution_count": null,
   "id": "21923974-cc82-484d-b876-d627b622ca59",
   "metadata": {},
   "outputs": [],
   "source": []
  },
  {
   "cell_type": "markdown",
   "id": "6060f246-98ca-4c24-9550-ecb13ffae257",
   "metadata": {},
   "source": [
    "#### 8. Special Characters\n",
    "**Question 15**: Write a regex pattern that matches a string containing any special character (e.g., `!@#$%^&*`) in the string `\"Are you ready?!\"`.\n"
   ]
  },
  {
   "cell_type": "code",
   "execution_count": null,
   "id": "35671219-81d0-41a0-8b37-5022d4be86e4",
   "metadata": {},
   "outputs": [],
   "source": []
  },
  {
   "cell_type": "markdown",
   "id": "c209680c-cfa5-4302-9515-6639e8fef4a2",
   "metadata": {},
   "source": [
    "**Question 16**: Create a regex pattern that matches a URL in the string `\"Visit us at https://example.com\"`.\n"
   ]
  },
  {
   "cell_type": "code",
   "execution_count": null,
   "id": "c2e67984-b386-42d8-a330-1326f6d8fa76",
   "metadata": {},
   "outputs": [],
   "source": []
  },
  {
   "cell_type": "markdown",
   "id": "f9fc74c6-7959-4b76-ac4e-f28a048f0db8",
   "metadata": {},
   "source": [
    "# Advanced Regex Practice Questions\n",
    "\n",
    "Here are some more complex regex practice questions that involve matching patterns for websites, phone numbers, currency, and other relevant formats. These questions will challenge your understanding of regex and encourage you to use various features and techniques.\n",
    "\n",
    "#### 1. Websites\n",
    "- **Question 1**: Write a regex pattern to match any URL starting with `http://` or `https://`, followed by a domain name and optional path. For example, match URLs in the string:  \n",
    "  `\"Visit us at https://www.example.com/path/to/resource and http://example.org.\"`\n",
    "\n",
    "\n"
   ]
  },
  {
   "cell_type": "code",
   "execution_count": null,
   "id": "afaedef4-4b73-4ada-a45f-4a3b27eeaaee",
   "metadata": {},
   "outputs": [],
   "source": []
  },
  {
   "cell_type": "markdown",
   "id": "a9e26973-872a-46b4-8360-47e656f2caff",
   "metadata": {},
   "source": [
    "#### 2. Phone Numbers\n",
    "- **Question 2**: Create a regex pattern that matches North American phone numbers in the formats `(123) 456-7890`, `123-456-7890`, or `123.456.7890`. For example, match phone numbers in the string:  \n",
    "  `\"Call me at (123) 456-7890 or 123-456-7890 or 123.456.7890.\"`\n",
    "\n"
   ]
  },
  {
   "cell_type": "code",
   "execution_count": null,
   "id": "44205017-c8b2-4214-9e79-b6f4f7721fdf",
   "metadata": {},
   "outputs": [],
   "source": []
  },
  {
   "cell_type": "markdown",
   "id": "3ed6bd77-2ebe-48e3-8c09-75ba5cb0ad65",
   "metadata": {},
   "source": [
    "#### 3. Currency\n",
    "- **Question 3**: Write a regex pattern that matches currency amounts in USD, including optional decimal points and commas. For example, match amounts in the string:  \n",
    "  `\"The prices are $1,000.00, $500, and $25.50.\"`\n",
    "\n"
   ]
  },
  {
   "cell_type": "code",
   "execution_count": null,
   "id": "d2f5986b-8e27-48f5-9b45-b34419dd5506",
   "metadata": {},
   "outputs": [],
   "source": []
  },
  {
   "cell_type": "markdown",
   "id": "b86166c1-981c-4620-8bfb-166c714bb41d",
   "metadata": {},
   "source": [
    "#### 4. Dates\n",
    "- **Question 4**: Create a regex pattern that matches dates in the format `MM/DD/YYYY` or `MM-DD-YYYY`, ensuring valid months (01-12) and days (01-31). For example, match dates in the string:  \n",
    "  `\"Important dates are 10/04/2024, 12-25-2023, and 01/01/2025.\"`\n",
    "\n"
   ]
  },
  {
   "cell_type": "code",
   "execution_count": null,
   "id": "1979df91-32e8-425d-a1eb-e1cd575890c4",
   "metadata": {},
   "outputs": [],
   "source": []
  },
  {
   "cell_type": "markdown",
   "id": "791e2aa4-b171-49b1-88fa-c5b75c167bee",
   "metadata": {},
   "source": [
    "#### 5. Email Addresses\n",
    "- **Question 5**: Write a regex pattern to match email addresses, ensuring they contain a username (letters, digits, dots, or underscores), followed by an `@` symbol, and a valid domain name. For example, match email addresses in the string:  \n",
    "  `\"Please contact us at info@example.com, support@my-site.org, or user_name123@gmail.com.\"`\n",
    "\n"
   ]
  },
  {
   "cell_type": "code",
   "execution_count": null,
   "id": "c7ff8a91-72ef-4e44-bd21-6eeb2374e66e",
   "metadata": {},
   "outputs": [],
   "source": []
  },
  {
   "cell_type": "markdown",
   "id": "df45ba9f-1b58-471e-9894-d5f88847aae5",
   "metadata": {},
   "source": [
    "#### 6. Hexadecimal Colors\n",
    "- **Question 6**: Create a regex pattern that matches hexadecimal color codes, which can start with `#` followed by exactly six hexadecimal characters (0-9, A-F). For example, match colors in the string:  \n",
    "  `\"The colors are #FF5733, #4CAF50, and #00A1FF.\"`\n"
   ]
  },
  {
   "cell_type": "code",
   "execution_count": null,
   "id": "53690991-9405-4f32-b52d-60a1ed982330",
   "metadata": {},
   "outputs": [],
   "source": []
  }
 ],
 "metadata": {
  "kernelspec": {
   "display_name": "Python 3 (ipykernel)",
   "language": "python",
   "name": "python3"
  },
  "language_info": {
   "codemirror_mode": {
    "name": "ipython",
    "version": 3
   },
   "file_extension": ".py",
   "mimetype": "text/x-python",
   "name": "python",
   "nbconvert_exporter": "python",
   "pygments_lexer": "ipython3",
   "version": "3.12.4"
  }
 },
 "nbformat": 4,
 "nbformat_minor": 5
}

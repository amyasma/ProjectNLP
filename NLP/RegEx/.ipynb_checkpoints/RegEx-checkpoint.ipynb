{
 "cells": [
  {
   "cell_type": "markdown",
   "id": "4929d1fb-3037-40ec-9bff-484c63851b2f",
   "metadata": {},
   "source": [
    "# Symbols:\n",
    "\n",
    "Regular expressions (regex) use various symbols to define search patterns. Below is a comprehensive list of the common regex symbols and their meanings:\n",
    "\n",
    "### Common Regex Symbols\n",
    "\n",
    "1. **Anchors**:\n",
    "   - `^` : Matches the start of a string.\n",
    "   - `$` : Matches the end of a string.\n",
    "\n",
    "2. **Character Classes**:\n",
    "   - `.` : Matches any character except a newline.\n",
    "   - `\\d` : Matches any digit (equivalent to `[0-9]`).\n",
    "   - `\\D` : Matches any non-digit character.\n",
    "   - `\\w` : Matches any word character (alphanumeric & underscore, equivalent to `[a-zA-Z0-9_]`).\n",
    "   - `\\W` : Matches any non-word character.\n",
    "   - `\\s` : Matches any whitespace character (spaces, tabs, line breaks).\n",
    "   - `\\S` : Matches any non-whitespace character.\n",
    "\n",
    "3. **Brackets**:\n",
    "   - `[abc]` : Matches any single character `a`, `b`, or `c`.\n",
    "   - `[^abc]` : Matches any character except `a`, `b`, or `c`.\n",
    "   - `[a-z]` : Matches any character from `a` to `z` (inclusive).\n",
    "   - `[A-Z]` : Matches any character from `A` to `Z`.\n",
    "   - `[0-9]` : Matches any digit from `0` to `9`.\n",
    "\n",
    "4. **Quantifiers**:\n",
    "   - `*` : Matches 0 or more occurrences of the preceding element.\n",
    "   - `+` : Matches 1 or more occurrences of the preceding element.\n",
    "   - `?` : Matches 0 or 1 occurrence of the preceding element.\n",
    "   - `{n}` : Matches exactly `n` occurrences of the preceding element.\n",
    "   - `{n,}` : Matches `n` or more occurrences.\n",
    "   - `{n,m}` : Matches between `n` and `m` occurrences.\n",
    "\n",
    "5. **Grouping and Capture**:\n",
    "   - `(...)` : Capturing group; captures the matched text for later use.\n",
    "   - `(?:...)` : Non-capturing group; groups the expression without capturing the match.\n",
    "   - `(?P<name>...)` : Named capturing group; captures the matched text and gives it a name for later reference.\n",
    "\n",
    "6. **Alternation**:\n",
    "   - `|` : Matches either the expression before or after it (logical OR).\n",
    "\n",
    "7. **Assertions**:\n",
    "   - `(?=...)` : Positive lookahead; matches a group only if followed by the specified expression.\n",
    "   - `(?!...)` : Negative lookahead; matches a group only if not followed by the specified expression.\n",
    "   - `(?<=...)` : Positive lookbehind; matches a group only if preceded by the specified expression.\n",
    "   - `(?<!...)` : Negative lookbehind; matches a group only if not preceded by the specified expression.\n",
    "\n",
    "8. **Escape Character**:\n",
    "   - `\\` : Escapes a special character to match it literally. For example, `\\.` matches a literal period.\n",
    "\n",
    "9. **Flags**:\n",
    "   - `(?i)` : Enables case-insensitive matching (can also be set globally).\n",
    "       - pattern = r\"(?i)hello\"\n",
    "   - `(?m)` : Enables multiline mode (affects `^` and `$`).\n",
    "       - pattern = r\"(?m)^hello\"\n",
    "   - `(?s)` : Enables dot-all mode (makes `.` match newline characters).\n",
    "       - pattern = r\"(?s)hello.\"\n",
    "   - `(?x)` : Enables verbose mode (allows for comments and whitespace).\n",
    "       - pattern = r\"\"\"(?x)hello  #enable Verbose\"\"\"\n",
    "\n",
    "### Summary of Common Symbols\n",
    "\n",
    "- **Anchors**: `^`, `$`\n",
    "- **Character Classes**: `.`, `\\d`, `\\D`, `\\w`, `\\W`, `\\s`, `\\S`, `[abc]`, `[^abc]`, `[a-z]`\n",
    "- **Quantifiers**: `*`, `+`, `?`, `{n}`, `{n,}`, `{n,m}`\n",
    "- **Grouping**: `(...)`, `(?:...)`, `(?P<name>...)`\n",
    "- **Alternation**: `|`\n",
    "- **Assertions**: `(?=...)`, `(?!...)`, `(?<=...)`, `(?<!...)`\n",
    "- **Escape**: `\\`\n",
    "- **Flags**: `(?i)`, `(?m)`, `(?s)`, `(?x)`\n",
    "\n",
    "These symbols form the foundation of regular expressions and are essential for pattern matching in strings!"
   ]
  },
  {
   "cell_type": "markdown",
   "id": "ee87c1e6-d214-4921-a406-c9e86eef84ed",
   "metadata": {},
   "source": [
    "# Functions:\n",
    "\n",
    "In Python, the `re` module (which handles **regular expressions**) contains many functions that allow you to perform operations using regex patterns. Here’s a list of the primary functions in the `re` module:\n",
    "\n",
    "## Core Functions in the `re` Module\n",
    "\n",
    "1. **`re.match(pattern, string, flags=0)`**\n",
    "   - Attempts to match a pattern at the **beginning** of the string.\n",
    "   - Returns a match object if found; otherwise, it returns `None`.\n",
    "\n",
    "2. **`re.search(pattern, string, flags=0)`**\n",
    "   - Searches the string for **any location** where the pattern matches.\n",
    "   - Returns a match object for the first match found; otherwise, returns `None`.\n",
    "\n",
    "3. **`re.findall(pattern, string, flags=0)`**\n",
    "   - Returns **all matches** of the pattern in the string as a list of strings.\n",
    "   - If there are no matches, an empty list is returned.\n",
    "\n",
    "4. **`re.finditer(pattern, string, flags=0)`**\n",
    "   - Returns an iterator yielding match objects over all matches in the string.\n",
    "\n",
    "5. **`re.sub(pattern, repl, string, count=0, flags=0)`**\n",
    "   - Replaces occurrences of the pattern in the string with `repl`.\n",
    "   - Returns the modified string.\n",
    "   - If `count` is specified, it replaces up to that many occurrences.\n",
    "\n",
    "\n",
    "6. **`re.subn(pattern, repl, string, count=0, flags=0)`**\n",
    "   - Similar to `re.sub()`, but it returns a tuple `(new_string, number_of_subs_made)`.\n",
    "\n",
    "\n",
    "7. **`re.split(pattern, string, maxsplit=0, flags=0)`**\n",
    "   - Splits the string by occurrences of the pattern and returns a list of substrings.\n",
    "   - If `maxsplit` is specified, it will limit the number of splits to that value.\n",
    "\n",
    "\n",
    "## Functions for Working with Compiled Patterns\n",
    "These are methods that are available once you've compiled a regular expression pattern using `re.compile()`.\n",
    "\n",
    "8. **`re.compile(pattern, flags=0)`**\n",
    "   - Compiles a regex pattern into a **regex object** for reuse.\n",
    "   - This can be useful when you need to use the same regex multiple times.\n",
    "\n",
    "Once you've compiled a pattern, you can use the following methods on that pattern object:\n",
    "\n",
    "**`pattern.match(string)`**\n",
    "\n",
    "**`pattern.search(string)`**\n",
    "\n",
    "**`pattern.findall(string)`**\n",
    "\n",
    "**`pattern.finditer(string)`**\n",
    "\n",
    "**`pattern.sub(repl, string, count=0)`**\n",
    "\n",
    "**`pattern.subn(repl, string, count=0)`**\n",
    "\n",
    "**`pattern.split(string, maxsplit=0)`**\n",
    "\n",
    "## Utility Functions\n",
    "\n",
    "16. **`re.escape(string)`**\n",
    "    - Escapes all non-alphanumeric characters in the string so they can be used in a regex.\n",
    "    - Useful for creating safe regex patterns from strings that might contain special characters.\n",
    "\n",
    "17. **`re.purge()`**\n",
    "    - Clears the regular expression cache.\n",
    "\n",
    "18. **`re.DEBUG`**\n",
    "    - This is a flag that can be used with compiled patterns to print debugging information.\n",
    "\n",
    "\n",
    "19. **`re.fullmatch(pattern, string, flags=0)`**\n",
    "    - Similar to `re.match()`, but it only matches if the entire string matches the pattern.\n",
    "\n",
    "---\n",
    "\n",
    "### To summarize:\n",
    "- The core functions include `match()`, `search()`, `findall()`, `finditer()`, `sub()`, `subn()`, `split()`, and `compile()`.\n",
    "- After compiling a pattern, you get additional methods that mirror the core functions but are used on regex objects (`pattern.match()`, `pattern.findall()`, etc.).\n",
    "- Utility functions like `re.escape()` and `re.purge()` offer additional control over regex behavior.\n",
    "\n",
    "For more details, you can always check out Python’s official documentation for the `re` module [here](https://docs.python.org/3/library/re.html)."
   ]
  },
  {
   "cell_type": "code",
   "execution_count": 71,
   "id": "e60620c4-6b12-43e9-8c14-a4fd1e3c6176",
   "metadata": {},
   "outputs": [],
   "source": [
    "import re"
   ]
  },
  {
   "cell_type": "markdown",
   "id": "c448fa2c-232a-4e47-a14a-910aa05716dc",
   "metadata": {},
   "source": [
    "## Re.Match\n",
    "**`re.match(pattern, string, flags=0)`**\n",
    "\n",
    "    - re.match(pattern, string, flags=0).\n",
    "    - Attempts to match a pattern at the beginning of the string.\n",
    "    - Returns a match object if found; otherwise, it returns None.\n",
    "\n",
    "\n"
   ]
  },
  {
   "cell_type": "code",
   "execution_count": 33,
   "id": "43a7d684-abec-4a1b-8169-00f910d18039",
   "metadata": {},
   "outputs": [
    {
     "name": "stdout",
     "output_type": "stream",
     "text": [
      "Raw result: <re.Match object; span=(0, 5), match='hello'>\n"
     ]
    }
   ],
   "source": [
    "result = re.match(r\"hello\", \"hello world\")\n",
    "print(\"Raw result:\", result)                                   #gives you raw result\n"
   ]
  },
  {
   "cell_type": "code",
   "execution_count": 37,
   "id": "bbb5db26-74f3-4a49-9959-40b502dbc23b",
   "metadata": {},
   "outputs": [
    {
     "name": "stdout",
     "output_type": "stream",
     "text": [
      "hello\n"
     ]
    }
   ],
   "source": [
    "#When you call group() without any arguments, it returns the entire match as a string.\n",
    "\n",
    "matched_text = result.group()\n",
    "print(matched_text)                                           # More refined result"
   ]
  },
  {
   "cell_type": "code",
   "execution_count": 31,
   "id": "b1c185f2-df4c-4f17-a14d-5230303bec7a",
   "metadata": {},
   "outputs": [
    {
     "name": "stdout",
     "output_type": "stream",
     "text": [
      "Full match: hello world\n",
      "First group: hello\n",
      "Second group: world\n",
      "All groups: ('hello', 'world')\n"
     ]
    }
   ],
   "source": [
    "# You can also use group() like this:\n",
    "\n",
    "string = \"hello world\"\n",
    "pattern = r\"(hello) (world)\"\n",
    "\n",
    "match = re.match(pattern, string)\n",
    "\n",
    "if match:\n",
    "    print(\"Full match:\", match.group(0))       # Output: hello world\n",
    "    print(\"First group:\", match.group(1))      # Output: hello\n",
    "    print(\"Second group:\", match.group(2))     # Output: world\n",
    "    print(\"All groups:\", match.groups())        # Output: ('hello', 'world')\n"
   ]
  },
  {
   "cell_type": "markdown",
   "id": "886c72e5-b2f4-4367-a263-0bb18cce485d",
   "metadata": {},
   "source": [
    "## Re.Search\n",
    "**`re.search(pattern, string, flags=0)`**\n",
    "   - Searches the string for **any location** where the pattern matches.\n",
    "   - Returns a match object for the first match found; otherwise, returns `None`."
   ]
  },
  {
   "cell_type": "code",
   "execution_count": 44,
   "id": "6a8ee16f-589c-49fe-bca2-ee6f94a62b35",
   "metadata": {},
   "outputs": [
    {
     "name": "stdout",
     "output_type": "stream",
     "text": [
      "<re.Match object; span=(6, 11), match='world'>\n",
      "world\n"
     ]
    }
   ],
   "source": [
    "result = re.search(r\"world\", \"hello world\")\n",
    "print(result)\n",
    "print(result.group())"
   ]
  },
  {
   "cell_type": "markdown",
   "id": "ba3bb1d3-cec2-4b0e-8f9d-66f68b3059b0",
   "metadata": {},
   "source": [
    "## Re.Findall\n",
    "**`re.findall(pattern, string, flags=0)`**\n",
    "   - Returns **all matches** of the pattern in the string as a list of strings.\n",
    "   - If there are no matches, an empty list is returned.\n",
    "   "
   ]
  },
  {
   "cell_type": "code",
   "execution_count": 49,
   "id": "d04e0fc9-f9b5-4ce3-9df0-731351e1d88a",
   "metadata": {},
   "outputs": [
    {
     "name": "stdout",
     "output_type": "stream",
     "text": [
      "['123', '456']\n"
     ]
    }
   ],
   "source": [
    "result = re.findall(r\"\\d+\", \"123 apples and 456 oranges\")\n",
    "print(result)"
   ]
  },
  {
   "cell_type": "markdown",
   "id": "ac901b97-ee9b-4b7a-82b7-cc611f51b404",
   "metadata": {},
   "source": [
    "## Re.Finditer\n",
    "\n",
    "**`re.finditer(pattern, string, flags=0)`**\n",
    "   - Returns an iterator yielding match objects over all matches in the string.\n"
   ]
  },
  {
   "cell_type": "code",
   "execution_count": 63,
   "id": "43608140-760e-4e52-a33c-a0834d646ef9",
   "metadata": {},
   "outputs": [
    {
     "name": "stdout",
     "output_type": "stream",
     "text": [
      "123\n",
      "456\n"
     ]
    }
   ],
   "source": [
    "result = re.finditer(r\"\\d+\", \"123 apples and 456 oranges\")\n",
    "for match in result:\n",
    "    print(match.group())"
   ]
  },
  {
   "cell_type": "markdown",
   "id": "35be2819-c8b0-41db-929f-a072aeb8a757",
   "metadata": {},
   "source": [
    "## Re.Sub\n",
    "**`re.sub(pattern, repl, string, count=0, flags=0)`**\n",
    "   - Replaces occurrences of the pattern in the string with `repl`.\n",
    "   - Returns the modified string.\n",
    "   - If `count` is specified, it replaces up to that many occurrences.\n"
   ]
  },
  {
   "cell_type": "code",
   "execution_count": 83,
   "id": "816b1390-2b80-46d5-a076-fa8f45ca6932",
   "metadata": {},
   "outputs": [
    {
     "name": "stdout",
     "output_type": "stream",
     "text": [
      "NUM apples and NUM oranges\n"
     ]
    }
   ],
   "source": [
    "result = re.sub(r\"\\d+\", \"NUM\", \"123 apples and 456 oranges\")\n",
    "print(result)"
   ]
  },
  {
   "cell_type": "code",
   "execution_count": 85,
   "id": "f4e6045c-7249-46d1-8969-180810a815e3",
   "metadata": {},
   "outputs": [
    {
     "name": "stdout",
     "output_type": "stream",
     "text": [
      "NUM apples and 456 oranges\n"
     ]
    }
   ],
   "source": [
    "result = re.sub(r\"\\d+\", \"NUM\", \"123 apples and 456 oranges\", 1)\n",
    "print(result)"
   ]
  },
  {
   "cell_type": "markdown",
   "id": "0a8c0b57-d6d7-4924-a906-3d72e3c93d69",
   "metadata": {},
   "source": [
    "## Re.Subn\n",
    "\n",
    "**`re.subn(pattern, repl, string, count=0, flags=0)`**\n",
    "   - Similar to `re.sub()`, but it returns a tuple `(new_string, number_of_subs_made)`."
   ]
  },
  {
   "cell_type": "code",
   "execution_count": 93,
   "id": "c27a95b6-fc9b-47d0-a1b3-be57cb917803",
   "metadata": {},
   "outputs": [
    {
     "name": "stdout",
     "output_type": "stream",
     "text": [
      "('NUM apples and NUM oranges and NUM bananas', 3)\n"
     ]
    }
   ],
   "source": [
    "result = re.subn(r\"\\d+\", \"NUM\", \"123 apples and 456 oranges and 44 bananas\")\n",
    "print(result)"
   ]
  },
  {
   "cell_type": "markdown",
   "id": "ab1a5fa3-4b8b-4a4e-a980-4402abde0864",
   "metadata": {},
   "source": [
    "## Re.Split\n",
    " \n",
    " **`re.split(pattern, string, maxsplit=0, flags=0)`**\n",
    "   - Splits the string by occurrences of the pattern and returns a list of substrings.\n",
    "   - If `maxsplit` is specified, it will limit the number of splits to that value.\n",
    "   "
   ]
  },
  {
   "cell_type": "code",
   "execution_count": 96,
   "id": "1a1f1b91-5c3c-4c58-8d8d-5b4cacda7580",
   "metadata": {},
   "outputs": [
    {
     "name": "stdout",
     "output_type": "stream",
     "text": [
      "['split', 'these', 'words']\n"
     ]
    }
   ],
   "source": [
    "result = re.split(r\"\\s+\", \"split these words\")\n",
    "print(result)"
   ]
  },
  {
   "cell_type": "markdown",
   "id": "6e1ca94c-9297-4927-bc74-97098a75a95b",
   "metadata": {},
   "source": [
    "## Re.Compile\n",
    "**`re.compile(pattern, flags=0)`**\n",
    "   - Compiles a regex pattern into a **regex object** for reuse.\n",
    "   - This can be useful when you need to use the same regex multiple times."
   ]
  },
  {
   "cell_type": "code",
   "execution_count": 105,
   "id": "d950d80c-993a-403f-ae54-97c86245ba96",
   "metadata": {},
   "outputs": [
    {
     "name": "stdout",
     "output_type": "stream",
     "text": [
      "['123', '456']\n"
     ]
    }
   ],
   "source": [
    "pattern = re.compile(r\"\\d+\")\n",
    "result = pattern.findall(\"123 apples and 456 oranges\")\n",
    "print(result)"
   ]
  },
  {
   "cell_type": "code",
   "execution_count": 159,
   "id": "ec95dfc6-8d9c-4b3a-b581-2c8eb14c6aa8",
   "metadata": {},
   "outputs": [
    {
     "name": "stdout",
     "output_type": "stream",
     "text": [
      "<re.Match object; span=(0, 3), match='123'>\n",
      "<re.Match object; span=(7, 10), match='456'>\n",
      "['123', '456']\n",
      "<callable_iterator object at 0x10cddf5e0>\n",
      "Num apples and Num oranges\n",
      "('Num apples and Num oranges', 2)\n",
      "['', ' apples and ', ' oranges']\n"
     ]
    }
   ],
   "source": [
    "result = pattern.match(\"123 apples\")\n",
    "print(result)\n",
    "result = pattern.search(\"I have 456 apples\")\n",
    "print(result)\n",
    "result = pattern.findall(\"123 apples and 456 oranges\")\n",
    "print(result)\n",
    "result = pattern.finditer(\"123 apples and 456 oranges\")\n",
    "print(result)\n",
    "result = pattern.sub(\"Num\", \"123 apples and 456 oranges\")\n",
    "print(result)\n",
    "result = pattern.subn(\"Num\", \"123 apples and 456 oranges\")\n",
    "print(result)\n",
    "result = pattern.split(\"123 apples and 456 oranges\")\n",
    "print(result)"
   ]
  },
  {
   "cell_type": "markdown",
   "id": "9839e9ca-e285-4b8b-9cf6-19f42bcff4de",
   "metadata": {},
   "source": [
    "# Utility Functions"
   ]
  },
  {
   "cell_type": "markdown",
   "id": "dd42d4c6-d0a2-4598-bbdb-d1efd1b6bada",
   "metadata": {},
   "source": [
    "## Re.Escape\n",
    "\n",
    "**`re.escape(string)`**\n",
    "    - Escapes all non-alphanumeric characters in the string so they can be used in a regex.\n",
    "    - Useful for creating safe regex patterns from strings that might contain special characters.\n"
   ]
  },
  {
   "cell_type": "code",
   "execution_count": 173,
   "id": "fda6afb9-0c0c-4f84-a0e2-c9a1c3e8a1b0",
   "metadata": {},
   "outputs": [
    {
     "name": "stdout",
     "output_type": "stream",
     "text": [
      "\\.\\*\\?:\\(\\)\\+\n"
     ]
    }
   ],
   "source": [
    "result = re.escape(\".*?:()+\")\n",
    "print(result)"
   ]
  },
  {
   "cell_type": "markdown",
   "id": "62e920f4-97aa-41c0-87ae-1ceb6505f419",
   "metadata": {},
   "source": [
    "## Re.Purge\n",
    "\n",
    "**`re.purge()`**\n",
    "    - Clears the regular expression cache."
   ]
  },
  {
   "cell_type": "code",
   "execution_count": 183,
   "id": "7f418731-05e1-4c7e-8762-2d1f88865a22",
   "metadata": {},
   "outputs": [],
   "source": [
    "re.purge()"
   ]
  },
  {
   "cell_type": "markdown",
   "id": "39cb90c3-1488-4e68-b030-b3e28dcf0c68",
   "metadata": {},
   "source": [
    "## Re.Debug\n",
    "\n",
    "**`re.DEBUG`**\n",
    "    - This is a flag that can be used with compiled patterns to print debugging information.\n",
    "\n",
    "\n"
   ]
  },
  {
   "cell_type": "code",
   "execution_count": 190,
   "id": "b8707f59-899a-487e-a20f-587ecfb401a8",
   "metadata": {},
   "outputs": [
    {
     "name": "stdout",
     "output_type": "stream",
     "text": [
      "MAX_REPEAT 1 MAXREPEAT\n",
      "  IN\n",
      "    CATEGORY CATEGORY_DIGIT\n",
      "\n",
      " 0. INFO 4 0b0 1 MAXREPEAT (to 5)\n",
      " 5: REPEAT_ONE 9 1 MAXREPEAT (to 15)\n",
      " 9.   IN 4 (to 14)\n",
      "11.     CATEGORY UNI_DIGIT\n",
      "13.     FAILURE\n",
      "14:   SUCCESS\n",
      "15: SUCCESS\n"
     ]
    }
   ],
   "source": [
    "pattern = re.compile(r\"\\d+\", re.DEBUG)"
   ]
  },
  {
   "cell_type": "markdown",
   "id": "b66b5b7a-d6fb-4459-bebb-cabb8952d122",
   "metadata": {},
   "source": [
    "## Re.Fullmatch\n",
    "\n",
    "**`re.fullmatch(pattern, string, flags=0)`**\n",
    "    - Similar to `re.match()`, but it only matches if the entire string matches the pattern.\n",
    "\n",
    "    "
   ]
  },
  {
   "cell_type": "code",
   "execution_count": 201,
   "id": "97c4f264-4117-4e54-a6ba-b4c2b9c75a1e",
   "metadata": {},
   "outputs": [
    {
     "name": "stdout",
     "output_type": "stream",
     "text": [
      "123456\n",
      "None\n"
     ]
    }
   ],
   "source": [
    "result = re.fullmatch(r\"\\d+\", \"123456\")\n",
    "print(result.group())                             #Output: 123456\n",
    "\n",
    "result = re.fullmatch(r\"\\d+\", \"123wef\")\n",
    "print(result)                                     #Output: None"
   ]
  },
  {
   "cell_type": "markdown",
   "id": "2c14b3c2-2a81-47a4-80fd-180f649bc878",
   "metadata": {},
   "source": [
    "# List of Regular Expression Flags\n",
    "\n",
    "The `re` module in Python provides several flags that can be used to modify the behavior of regular expression operations. Here’s a comprehensive list of the flags, along with their descriptions and use cases:\n",
    "\n",
    "- **`re.IGNORECASE`**: Case-insensitive matching.\n",
    "- **`re.MULTILINE`**: Anchors match the start/end of each line.\n",
    "- **`re.DOTALL`**: `.` matches newlines as well.\n",
    "- **`re.VERBOSE`**: Readable regex with comments.\n",
    "- **`re.ASCII`**: `\\w` matches only ASCII characters.\n",
    "- **`re.UNICODE`**: `\\w` matches Unicode characters.\n",
    "- **`re.LOCALE`**: Locale-dependent matching.\n",
    "- **`re.DEBUG`**: Prints debug information about the regex pattern.\n",
    "\n",
    "### Combining Flags\n",
    "\n",
    "You can combine multiple flags using the bitwise OR operator (`|`):\n",
    "\n",
    "These flags give you flexibility and power when working with regular expressions in Python!"
   ]
  },
  {
   "cell_type": "markdown",
   "id": "79888f42-9b0f-4bea-a461-c45ca32ffffc",
   "metadata": {},
   "source": [
    "## Re.IGNORECASE\n",
    "\n",
    "**`re.IGNORECASE` (or `re.I`)**\n",
    "   - Makes the matching case-insensitive."
   ]
  },
  {
   "cell_type": "code",
   "execution_count": 212,
   "id": "35225aeb-009c-4fb1-b375-46ab01276ab7",
   "metadata": {},
   "outputs": [
    {
     "data": {
      "text/plain": [
       "'Hello'"
      ]
     },
     "execution_count": 212,
     "metadata": {},
     "output_type": "execute_result"
    }
   ],
   "source": [
    "re.search(r\"hello\", \"Hello World\", flags=re.IGNORECASE).group()  # Matches \"Hello\""
   ]
  },
  {
   "cell_type": "markdown",
   "id": "9ff3c238-271a-4811-a53b-dab0787c142a",
   "metadata": {},
   "source": [
    "## Re.MULTILINE\n",
    "\n",
    "**`re.MULTILINE` (or `re.M`)**\n",
    "   - Changes the behavior of `^` and `$` to match the start and end of each line within the string, instead of the whole string.\n"
   ]
  },
  {
   "cell_type": "code",
   "execution_count": 219,
   "id": "ca332ff1-0ca3-4cd7-9122-f53259f03b1d",
   "metadata": {},
   "outputs": [
    {
     "name": "stdout",
     "output_type": "stream",
     "text": [
      "hello\n",
      "world\n"
     ]
    },
    {
     "data": {
      "text/plain": [
       "['h']"
      ]
     },
     "execution_count": 219,
     "metadata": {},
     "output_type": "execute_result"
    }
   ],
   "source": [
    "text = \"hello\\nworld\"\n",
    "print(text)\n",
    "re.findall(r\"^h\", text, flags=re.MULTILINE)  # Matches 'h' in \"hello\""
   ]
  },
  {
   "cell_type": "markdown",
   "id": "d70a2f7a-d582-42ad-9113-809523d444ec",
   "metadata": {},
   "source": [
    "## Re.DOTALL\n",
    "\n",
    "**`re.DOTALL` (or `re.S`)**\n",
    "   - Makes the `.` special character match any character, including newline characters.\n"
   ]
  },
  {
   "cell_type": "code",
   "execution_count": 241,
   "id": "4e18c51e-e179-4d11-8d55-ef22efae4eba",
   "metadata": {},
   "outputs": [
    {
     "data": {
      "text/plain": [
       "'hello\\nworld'"
      ]
     },
     "execution_count": 241,
     "metadata": {},
     "output_type": "execute_result"
    }
   ],
   "source": [
    "text = \"hello\\nworld\"\n",
    "re.search(r\"hello.world\", text, flags=re.DOTALL).group()                 # Matches \"hello\\nworld\""
   ]
  },
  {
   "cell_type": "markdown",
   "id": "890c3ac9-f287-4a13-941c-e9edbc7d5b4d",
   "metadata": {},
   "source": [
    "## Re.VERBOSE\n",
    "\n",
    "**`re.VERBOSE` (or `re.X`)**\n",
    "   - Allows you to write more readable regular expressions by ignoring whitespace and allowing comments within the pattern.\n"
   ]
  },
  {
   "cell_type": "code",
   "execution_count": 245,
   "id": "486ee8e6-a907-4a51-83a4-c6fd34ab9b95",
   "metadata": {},
   "outputs": [
    {
     "data": {
      "text/plain": [
       "'hello world'"
      ]
     },
     "execution_count": 245,
     "metadata": {},
     "output_type": "execute_result"
    }
   ],
   "source": [
    "pattern = r\"\"\"\n",
    "         hello   # Match the word 'hello'\n",
    "         \\s      # Followed by a whitespace\n",
    "         world    # Then match the word 'world'\n",
    "     \"\"\"\n",
    "re.search(pattern, \"hello world\", flags=re.VERBOSE).group()               # Matches \"hello world\""
   ]
  },
  {
   "cell_type": "markdown",
   "id": "03614334-1e14-40c7-a9a9-fcc99439b5c8",
   "metadata": {},
   "source": [
    "## Re.ASCII\n",
    "**`re.ASCII` (or `re.A`)**\n",
    "   - Makes the `\\w`, `\\W`, `\\b`, and `\\B` special sequences match only ASCII characters.\n"
   ]
  },
  {
   "cell_type": "code",
   "execution_count": 248,
   "id": "d0b0ed0e-a1cb-47cc-865a-489c609b8ba2",
   "metadata": {},
   "outputs": [
    {
     "data": {
      "text/plain": [
       "['caf']"
      ]
     },
     "execution_count": 248,
     "metadata": {},
     "output_type": "execute_result"
    }
   ],
   "source": [
    "re.findall(r\"\\w+\", \"café\", flags=re.ASCII)  # Matches only 'c'"
   ]
  },
  {
   "cell_type": "markdown",
   "id": "2c085c46-88fc-4d2d-b9dc-232f62b728e5",
   "metadata": {},
   "source": [
    "## Re.UNICODE\n",
    "\n",
    "**`re.UNICODE` (or `re.U`)**\n",
    "   - Makes the `\\w`, `\\W`, `\\b`, and `\\B` special sequences match Unicode characters (default in Python 3)."
   ]
  },
  {
   "cell_type": "code",
   "execution_count": 257,
   "id": "5cd6dd0b-cf78-4745-b8eb-70f286c2c048",
   "metadata": {},
   "outputs": [
    {
     "data": {
      "text/plain": [
       "['café']"
      ]
     },
     "execution_count": 257,
     "metadata": {},
     "output_type": "execute_result"
    }
   ],
   "source": [
    "re.findall(r\"\\w+\", \"café\")  # Matches 'café'"
   ]
  },
  {
   "cell_type": "markdown",
   "id": "b8c40b4b-09fb-4a86-b4e7-f61ece70e09e",
   "metadata": {},
   "source": [
    "## Re.UNICODE\n",
    "\n",
    "**`re.UNICODE`**\n",
    "   - This allows the \\w special sequence to include Unicode word characters, which covers accented letters and other characters."
   ]
  },
  {
   "cell_type": "code",
   "execution_count": 279,
   "id": "356bbb94-c33f-4b85-a824-a13c3f61561e",
   "metadata": {},
   "outputs": [
    {
     "name": "stdout",
     "output_type": "stream",
     "text": [
      "['café', 'jalapeño', 'año', 'niño']\n"
     ]
    }
   ],
   "source": [
    "# Sample text containing Spanish characters\n",
    "text = \"café, jalapeño, año, niño\"\n",
    "\n",
    "# Regex pattern to match word characters using re.LOCALE\n",
    "pattern = re.compile(r'\\w+', re.UNICODE)\n",
    "\n",
    "# Find all matches in the text\n",
    "matches = pattern.findall(text)\n",
    "\n",
    "# Print the matches\n",
    "print(matches)  # Output should include 'café', 'jalapeño', 'año', 'niño' as separate words\n"
   ]
  },
  {
   "cell_type": "markdown",
   "id": "2c23768d-84ae-41ea-a70b-63a57769edfd",
   "metadata": {},
   "source": [
    "## Re.DEBUG\n",
    "\n",
    "**`re.DEBUG`**\n",
    "   - When this flag is used, the regex engine will print information about how it processes the pattern. This is useful for debugging complex patterns.\n",
    "     "
   ]
  },
  {
   "cell_type": "code",
   "execution_count": 262,
   "id": "9319c0a2-1fbd-4d99-8843-47b0bab145f0",
   "metadata": {},
   "outputs": [
    {
     "name": "stdout",
     "output_type": "stream",
     "text": [
      "LITERAL 104\n",
      "LITERAL 101\n",
      "LITERAL 108\n",
      "LITERAL 108\n",
      "LITERAL 111\n",
      "\n",
      " 0. INFO 16 0b11 5 5 (to 17)\n",
      "      prefix_skip 5\n",
      "      prefix [0x68, 0x65, 0x6c, 0x6c, 0x6f] ('hello')\n",
      "      overlap [0, 0, 0, 0, 0]\n",
      "17: LITERAL 0x68 ('h')\n",
      "19. LITERAL 0x65 ('e')\n",
      "21. LITERAL 0x6c ('l')\n",
      "23. LITERAL 0x6c ('l')\n",
      "25. LITERAL 0x6f ('o')\n",
      "27. SUCCESS\n"
     ]
    },
    {
     "data": {
      "text/plain": [
       "re.compile(r'hello', re.UNICODE|re.DEBUG)"
      ]
     },
     "execution_count": 262,
     "metadata": {},
     "output_type": "execute_result"
    }
   ],
   "source": [
    "re.compile(r\"hello\", flags=re.DEBUG)  # Prints debug information about the pattern"
   ]
  },
  {
   "cell_type": "markdown",
   "id": "24bca811-4f00-40af-bc2f-71b67d8d3189",
   "metadata": {},
   "source": [
    "## Combining Flags\n",
    "\n",
    "You can combine multiple flags using the bitwise OR operator (`|`):"
   ]
  },
  {
   "cell_type": "code",
   "execution_count": 293,
   "id": "2e5bd473-0370-481a-96e5-5362757e2b31",
   "metadata": {},
   "outputs": [
    {
     "name": "stdout",
     "output_type": "stream",
     "text": [
      "Hello\n"
     ]
    }
   ],
   "source": [
    "pattern = r\"hello\"\n",
    "text = \"Hello World\"\n",
    "result = re.search(pattern, text, flags=re.IGNORECASE | re.MULTILINE)\n",
    "print(result.group())"
   ]
  }
 ],
 "metadata": {
  "kernelspec": {
   "display_name": "Python 3 (ipykernel)",
   "language": "python",
   "name": "python3"
  },
  "language_info": {
   "codemirror_mode": {
    "name": "ipython",
    "version": 3
   },
   "file_extension": ".py",
   "mimetype": "text/x-python",
   "name": "python",
   "nbconvert_exporter": "python",
   "pygments_lexer": "ipython3",
   "version": "3.12.4"
  }
 },
 "nbformat": 4,
 "nbformat_minor": 5
}

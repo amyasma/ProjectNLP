{
 "cells": [
  {
   "cell_type": "markdown",
   "id": "fedc43c3-0555-4a5e-b51f-f8e3bacfa9c7",
   "metadata": {},
   "source": [
    "# Answers Sheet (for self-checking)\n",
    "\n",
    "#### 1. Character Classes\n",
    "1. **Pattern**: `[aeiou]`\n",
    "2. **Pattern**: `\\d`\n",
    "\n",
    "#### 2. Anchors\n",
    "3. **Pattern**: `^Start`\n",
    "4. **Pattern**: `\\b\\w+ed\\b`\n",
    "\n",
    "#### 3. Quantifiers\n",
    "5. **Pattern**: `\\d+`\n",
    "6. **Pattern**: `\\s*`\n",
    "\n",
    "#### 4. Groups and Capturing\n",
    "7. **Pattern**: `(\\d{2})-(\\d{2})-(\\d{4})`\n",
    "8. **Pattern**: `(\\w+) (\\w+)`\n",
    "\n",
    "#### 5. Backreferences\n",
    "9. **Pattern**: `\\b(\\w+)\\s+\\1\\b`\n",
    "10. **Pattern**: `(\\w*?(\\w)\\2\\w*)`\n",
    "\n",
    "#### 6. Flags\n",
    "11. **Pattern**: `(?i)hello`\n",
    "12. **Pattern**: `(?m)^.*`\n",
    "\n",
    "#### 7. Assertions\n",
    "13. **Pattern**: `cat(?=fish)`\n",
    "14. **Pattern**: `(?<=not\\s)\\w+`\n",
    "\n",
    "#### 8. Special Characters\n",
    "15. **Pattern**: `[!@#$%^&*]`\n",
    "16. **Pattern**: `https?://[^\\s]+`"
   ]
  },
  {
   "cell_type": "markdown",
   "id": "faaf323e-b96c-436e-aee6-79ffa6e819ab",
   "metadata": {},
   "source": [
    "# Answers Section for Advance Questions (for self-checking)\n",
    "\n",
    "#### 1. Websites\n",
    "1. **Pattern**: `https?://[^\\s/]+(/[^\\s]*)?`\n",
    "\n",
    "#### 2. Phone Numbers\n",
    "2. **Pattern**: `(\\(\\d{3}\\)\\s*\\d{3}[-.\\s]?\\d{4}|\\d{3}[-.\\s]?\\d{3}[-.\\s]?\\d{4})`\n",
    "\n",
    "#### 3. Currency\n",
    "3. **Pattern**: `\\$[0-9,]+(\\.\\d{2})?`\n",
    "\n",
    "#### 4. Dates\n",
    "4. **Pattern**: `(?:0[1-9]|1[0-2])[-/](?:0[1-9]|[12][0-9]|3[01])[-/](\\d{4})`\n",
    "\n",
    "#### 5. Email Addresses\n",
    "5. **Pattern**: `[a-zA-Z0-9._%+-]+@[a-zA-Z0-9.-]+\\.[a-zA-Z]{2,}`\n",
    "\n",
    "#### 6. Hexadecimal Colors\n",
    "6. **Pattern**: `#([0-9A-Fa-f]{6})`\n",
    "\n",
    "### Tips for Practicing\n",
    "- Test your patterns with various input strings to ensure they match the desired formats and fail on incorrect formats.\n",
    "- Use online regex testers to visualize your regex and understand how it works.\n",
    "\n",
    "Feel free to ask if you need explanations for any of the patterns or further practice questions!"
   ]
  }
 ],
 "metadata": {
  "kernelspec": {
   "display_name": "Python 3 (ipykernel)",
   "language": "python",
   "name": "python3"
  },
  "language_info": {
   "codemirror_mode": {
    "name": "ipython",
    "version": 3
   },
   "file_extension": ".py",
   "mimetype": "text/x-python",
   "name": "python",
   "nbconvert_exporter": "python",
   "pygments_lexer": "ipython3",
   "version": "3.12.4"
  }
 },
 "nbformat": 4,
 "nbformat_minor": 5
}

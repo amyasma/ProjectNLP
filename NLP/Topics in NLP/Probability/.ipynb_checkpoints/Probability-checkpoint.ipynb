{
 "cells": [
  {
   "cell_type": "markdown",
   "id": "a5abedfa-1a13-4fb5-9b39-ef70ce3d8927",
   "metadata": {},
   "source": [
    "# Probability\n",
    "\n",
    "Probability is a measure of how likely or unlikely something is to happen.\n",
    "\n",
    "- It is a way of quantifying uncertainty about an event by assigning it a value ranging from 0 to 1. \n",
    "- If an outcome is impossible, its probability is 0. If an outcome is certain, its probability is 1. \n",
    "- The closer a probability is to 1, the more likely it is to happen."
   ]
  },
  {
   "cell_type": "markdown",
   "id": "5cf3b164-fc3d-4169-8d0b-7197936558fa",
   "metadata": {},
   "source": [
    "### The Events we Measure\n",
    "\n",
    "Before you check the probability, you create a list/set of all the possible outcomes. This list/set is called the **sample space**.\n",
    "\n",
    "Events are the subsets of the sample space 'S'.\n",
    "\n",
    "you can denote events with capital letters like A, B, C, D, etc.\n",
    "\n",
    "For example: \n",
    "\n",
    "- If you roll a single die, the total possible outcomes is S = {1, 2, 3, 4, 5, 6}.\n",
    "- The possible events of odd outcomes are A = {1, 3, 5}.\n",
    "- The possible events of even outcomes are B = {2, 4, 6}.\n",
    "\n",
    "**Types of events:**\n",
    "\n",
    "- **Discrete Events:** Discrete events are those with a countable number of possible outcomes.\n",
    "- **Continuous Events:** Continuous events are those that can take an infinite number of values (ex. formant values for various speech signals, heights of people at various ages, etc.).\n",
    "\n",
    "\n",
    "**Manipulating Events:**\n",
    "\n",
    "You can manipulate events by using the following: \n",
    "- Unions\n",
    "- Intersections\n",
    "- Complements\n"
   ]
  },
  {
   "cell_type": "code",
   "execution_count": 224,
   "id": "a15f0b44-a1e0-4ed9-8590-037229d8df84",
   "metadata": {},
   "outputs": [
    {
     "data": {
      "text/plain": [
       "{1, 2, 3, 4, 6}"
      ]
     },
     "execution_count": 224,
     "metadata": {},
     "output_type": "execute_result"
    }
   ],
   "source": [
    "# When you do Union, you combine both sets into one:\n",
    "\n",
    "A = {2, 4, 6}  # Set A\n",
    "B = {1, 2, 3}  # Set B\n",
    "\n",
    "# Union of A and B\n",
    "AUB = A.union(B)\n",
    "# or\n",
    "AUB = A|B\n",
    "\n",
    "AUB\n"
   ]
  },
  {
   "cell_type": "code",
   "execution_count": 226,
   "id": "82b70e60-df94-4cde-bc28-ff400d777ede",
   "metadata": {},
   "outputs": [
    {
     "data": {
      "text/plain": [
       "{2}"
      ]
     },
     "execution_count": 226,
     "metadata": {},
     "output_type": "execute_result"
    }
   ],
   "source": [
    "# When you do intersection, you get the common outcomes between two sets,  \n",
    "\n",
    "\n",
    "A = {2, 4, 6}  # Set A\n",
    "B = {1, 2, 3}  # Set B\n",
    "\n",
    "# Intersection of A and B\n",
    "AIB = A.intersection(B)\n",
    "# or\n",
    "AIB = A&B\n",
    "\n",
    "AIB\n"
   ]
  },
  {
   "cell_type": "code",
   "execution_count": 232,
   "id": "6fa94f9e-fc7f-4b1b-898e-a43ccf748fcc",
   "metadata": {},
   "outputs": [
    {
     "data": {
      "text/plain": [
       "{1, 3, 5}"
      ]
     },
     "execution_count": 232,
     "metadata": {},
     "output_type": "execute_result"
    }
   ],
   "source": [
    "# When you get the complement of a set, you get the elements that are not present in that set. \n",
    "# Here 'U' is a universal set that A is being compared with to get the new values. \n",
    "\n",
    "U = {1, 2, 3, 4, 5, 6}  # Universal set\n",
    "A = {2, 4, 6}  # Set A\n",
    "\n",
    "# Complement of A with respect to U\n",
    "A_comp = U.difference(A)\n",
    "#or\n",
    "A_comp = U^A\n",
    "\n",
    "A_comp\n"
   ]
  },
  {
   "cell_type": "markdown",
   "id": "fcd62505-7222-4bc6-b8fd-85274cddb4b7",
   "metadata": {},
   "source": [
    "# Types of Probabilities\n",
    "\n",
    "- **Marginal Probability**: The probability of a single event happening, regardless of other events.  \n",
    "  Example: P(A), the probability of rolling a 3 on a die, is  $\\frac{1}{6}$.\n",
    "\n",
    "- **Union Probability**: The probability that either of two events (or both) happen.  \n",
    "  Example: P(AUB), rolling an even number or a number less than 4 on a die, is $\\frac{5}{6}$.\n",
    "\n",
    "- **Intersection (Joint) Probability**: The probability that two events happen simultaneously.  \n",
    "  Example: P(A Int B), rolling a number that is both even and less than 4, is $\\frac{1}{6}$.\n",
    "\n",
    "- **Conditional Probability**: The probability of one event happening given that another event has already occurred.  \n",
    "  Example: P(A | B), probability of rolling a 6 given that you rolled an even number, is $\\frac{1}{3}$.\n",
    "\n",
    "- **Probability of a Complement**: The probability that an event does **not** happen.  \n",
    "  Example: P(A_comp), the probability of **not** rolling a 3 on a die, is $\\frac{5}{6}$.\n",
    "\n",
    "\n"
   ]
  },
  {
   "cell_type": "markdown",
   "id": "befc3aa9-6076-401d-a054-dd42202c203e",
   "metadata": {},
   "source": [
    "## Marginal Probability\n",
    "\n",
    "Marginal probability refers to the probability of a single event occurring, without considering the influence of any other events.\n",
    "\n",
    "here is the formula for discrete events: \n",
    "\n",
    "\n",
    "P (A) = $\\frac {Num\\_ of\\_ Outcome\\_ of\\_ Interest (A)}{Num\\_ of\\_ All\\_ Possible\\_ Outcomes (B)}$\n",
    "\n",
    "\n",
    "If you want to test the probability of 3 on a dice with 6 sides:\n",
    "\n",
    "P(A is 3) = $\\frac {1}{6} $ = 0.16\n"
   ]
  },
  {
   "cell_type": "code",
   "execution_count": 114,
   "id": "6212778e-2fec-48bc-bb93-2ad4d2bfa588",
   "metadata": {},
   "outputs": [
    {
     "name": "stdout",
     "output_type": "stream",
     "text": [
      "Marginal Probability of rolling a 3: 0.26666666666666666\n"
     ]
    }
   ],
   "source": [
    "# Imagine you roll dice multiple times and you transform the result into a dataset of outcomes:\n",
    "\n",
    "outcomes = [1, 2, 3, 4, 5, 6, 1, 3, 3, 4, 5, 2, 6, 1, 3]\n",
    "\n",
    "                                                                        # Total number of outcomes\n",
    "total_outcomes = len(outcomes)\n",
    "\n",
    "                                                                        # Count occurrences of the event (rolling a 3)\n",
    "count_rolling_3 = outcomes.count(3)\n",
    "\n",
    "                                                                        # Marginal probability of rolling a 3\n",
    "marginal_probability_of_3 = count_rolling_3 / total_outcomes\n",
    "\n",
    "                                                                        # Display the result\n",
    "print(\"Marginal Probability of rolling a 3:\", marginal_probability_of_3)\n"
   ]
  },
  {
   "cell_type": "markdown",
   "id": "a2fea89e-a707-41b1-8426-f049ec8470d9",
   "metadata": {},
   "source": [
    "## Union Probability:\n",
    "We perform the union of two sets to get the probability that either of two events (or both) happen.\n",
    "\n",
    "Some also read AUB (A  union B) as 'A or B'. \n",
    "\n",
    "The formula of **Union** is:\n",
    "\n",
    "                    P(A U B) = P(A) + P(B) - P(A Int B)\n",
    "\n",
    "Suppose you have a set **A {2, 4, 6}** and **B {1, 2, 3}** out of a big dataset of **C = {1, 2, 3, 4, 5, 6}**. \n",
    "\n",
    "                    P(A U B) = P{2, 4, 6} + P{1, 2, 3} - {2}\n",
    "                             = P{1, 2, 2, 3, 4, 6} - {2}\n",
    "                             = P{1, 2, 3, 4, 6} \n",
    "\n",
    "Now, lets apply the formula of **probability** to it: \n",
    "\n",
    "P (AUB) = $\\frac {Num\\_ of\\_ Outcome\\_ of\\_ Interest (AUB)}{Num\\_ of\\_ All\\_ Possible\\_ Outcomes (C)}$\n",
    "\n",
    "P (AUB) = $\\frac{5}{6}$ = 0.83\n",
    "\n",
    "So, P(AUB) has 5 out of 6 outcomes which can be written as $\\frac{5}{6}$, giving us a probability of 0.83\n",
    "\n"
   ]
  },
  {
   "cell_type": "code",
   "execution_count": 220,
   "id": "b7837636-75c4-48b8-bd15-d4dd3f29d775",
   "metadata": {},
   "outputs": [
    {
     "name": "stdout",
     "output_type": "stream",
     "text": [
      "Probability of A union B: 0.8333333333333334\n"
     ]
    }
   ],
   "source": [
    "# Our Example Sets or Events:\n",
    "\n",
    "A = {2, 4, 6}\n",
    "B = {1, 2, 3}\n",
    "C = {1, 2, 3, 4, 5, 6}\n",
    "\n",
    "\n",
    "                                                # Calculate the union\n",
    "AUB = A.union(B)\n",
    "# or\n",
    "AUB = A|B\n",
    "                                                # Calculate the probability\n",
    "P_AUB = (len(AUB))/(len(C))\n",
    "                                                # Display the result\n",
    "print(\"Probability of A union B:\", P_AUB)\n"
   ]
  },
  {
   "cell_type": "markdown",
   "id": "c7f45ef0-f3c9-4fb7-83f6-ed9224dc1e9c",
   "metadata": {},
   "source": [
    "## Joint (Intersection) Probability\n",
    "\n",
    "Joint probability refers to the probability of two (or more) events happening simultaneously. \n",
    "In this we perform intersection to see the common element in two sets/events. \n",
    " \n",
    "- If you have two events (A) and (B), the **joint probability** is denoted as P(A, B), and represents the probability that both events (A) and (B) occur at the same time.\n",
    "\n",
    "The formula to check the joint probability of two independent events:\n",
    "\n",
    "                    P(AintB) = P(A) * P(B)\n",
    "\n",
    "For example, if you're rolling a die, the joint probability of getting an even number (A) and a number less than 4 (B) can be calculated by finding the overlap of these two events:\n",
    "\n",
    "- A = {2, 4, 6}      (even numbers)\n",
    "- B = {1, 2, 3}      (numbers less than 4)\n",
    "\n",
    "\n",
    "The joint probability, P(A, B), would focus on the number 2, which satisfies both conditions, and its probability would be $ \\frac{1}{6}$ (since it's one of six equally likely outcomes).\n",
    "\n"
   ]
  },
  {
   "cell_type": "code",
   "execution_count": 218,
   "id": "2c46e8f4-88a2-4743-9e1e-4580fe1ac2f1",
   "metadata": {},
   "outputs": [
    {
     "name": "stdout",
     "output_type": "stream",
     "text": [
      "Probability of A union B: 0.16666666666666666\n"
     ]
    }
   ],
   "source": [
    "# Our Example Sets or Events:\n",
    "\n",
    "A = {2, 4, 6}\n",
    "B = {1, 2, 3}\n",
    "C = {1, 2, 3, 4, 5, 6}\n",
    "\n",
    "\n",
    "                                                # Calculate the intersection\n",
    "AintB = A.intersection(B)\n",
    "# or\n",
    "AintB = A&B\n",
    "                                                # Calculate the probability\n",
    "P_AintB = (len(AintB))/(len(C))\n",
    "                                                # Display the result\n",
    "print(\"Probability of A union B:\", P_AintB)\n"
   ]
  },
  {
   "cell_type": "markdown",
   "id": "d0dbc123-4264-4dd4-a8c2-0f4fcbadbc96",
   "metadata": {},
   "source": [
    "## Complement Probability\n",
    "\n",
    "The complement of an event A is every item in the sample space, S, that isn't an A.\n",
    "\n",
    "This kind of probability tells you how likely it is that the event will NOT happen. \n",
    "\n",
    "For example: Suppose you are rolling a dice where:\n",
    "\n",
    "- A = {2,4}\n",
    "- S = {1, 2, 3, 4, 5, 6}\n",
    "\n",
    "The complement of A would be all the values that are not in A = A_Comp = {1, 3, 5, 6}\n",
    "\n",
    "The complement probability of P(A_Comp) would be $ \\frac{4}{6}$ which equals 0.66"
   ]
  },
  {
   "cell_type": "code",
   "execution_count": 234,
   "id": "d303bd66-eb22-4688-a69e-c81f02a1702b",
   "metadata": {},
   "outputs": [
    {
     "name": "stdout",
     "output_type": "stream",
     "text": [
      "Probability of A Complement: 0.6666666666666666\n"
     ]
    }
   ],
   "source": [
    "# Our Example Sets or Events:\n",
    "\n",
    "A = {2, 4}\n",
    "S = {1, 2, 3, 4, 5, 6}\n",
    "\n",
    "\n",
    "                                                # Calculate the complement\n",
    "A_Comp = S.difference(A)\n",
    "# or\n",
    "A_Comp = S^A\n",
    "                                                # Calculate the probability\n",
    "P_AC = (len(A_Comp))/(len(S))\n",
    "                                                # Display the result\n",
    "print(\"Probability of A Complement:\", P_AC)\n"
   ]
  },
  {
   "cell_type": "markdown",
   "id": "89b1135e-70f6-47cd-9966-1cdea6c1d800",
   "metadata": {},
   "source": [
    "## Conditional Probabilities \n",
    "\n",
    "To calculate the conditional probability of a set, you take into account the prior information available in another set. \n",
    "\n",
    "It gives you the probability of one event, given that another event has already occured. \n",
    "\n",
    "You write it like this = P(A|B)\n",
    "- The pipe symbol (|) is only used to separate the two events\n",
    "- A is the event you want to find the probability of.\n",
    "- B is the event that has already occured.\n",
    "\n",
    "The formula for conditional probability is:\n",
    "\n",
    "P (A|B) = $\\frac { P(A\\_int\\_B)}{P (B)}$\n",
    "\n",
    "You do (A int B) because you want the outcome from B that also appears in A. \n",
    "You divide it by B because that is now your sample space, because you know the item in question exists in B.\n"
   ]
  },
  {
   "cell_type": "code",
   "execution_count": 216,
   "id": "f0f3124f-fb72-4195-a683-aa69a0630f25",
   "metadata": {},
   "outputs": [
    {
     "name": "stdout",
     "output_type": "stream",
     "text": [
      "The Conditional Probability of A: 0.3333333333333333\n"
     ]
    }
   ],
   "source": [
    "A = {2, 4, 6}\n",
    "B = {1, 2, 3}\n",
    "\n",
    "                                                        # Calculate the intersection with a function or a symbol. \n",
    "AintB = A.intersection(B)\n",
    "#or\n",
    "AintB = A&B\n",
    "                                                        # Calculate the probability\n",
    "P_A_given_B = (len(AintB))/(len(B))\n",
    "                                                        # Display the result\n",
    "print(\"The Conditional Probability of A:\", P_A_given_B)"
   ]
  },
  {
   "cell_type": "markdown",
   "id": "f26c9618-b044-4fad-a059-6d79f2719ac0",
   "metadata": {},
   "source": [
    "# Fun Practice\n",
    "\n",
    "- Let's the itertools.product function to generate all possible outcomes of rolling a dice twice.\n",
    "- then calculate the joint probability of {2,5} and {5,2}.\n",
    "\n",
    "\n"
   ]
  },
  {
   "cell_type": "code",
   "execution_count": 282,
   "id": "05cb7811-f8a8-4fb6-9ce3-f17240769813",
   "metadata": {},
   "outputs": [
    {
     "name": "stdout",
     "output_type": "stream",
     "text": [
      "[(1, 1), (1, 2), (1, 3), (1, 4), (1, 5), (1, 6), (2, 1), (2, 2), (2, 3), (2, 4), (2, 5), (2, 6), (3, 1), (3, 2), (3, 3), (3, 4), (3, 5), (3, 6), (4, 1), (4, 2), (4, 3), (4, 4), (4, 5), (4, 6), (5, 1), (5, 2), (5, 3), (5, 4), (5, 5), (5, 6), (6, 1), (6, 2), (6, 3), (6, 4), (6, 5), (6, 6)]\n"
     ]
    }
   ],
   "source": [
    "# First we get the dataset of rolling the dice twice. We get all the multiples by using the product() function.\n",
    "\n",
    "\n",
    "from itertools import product\n",
    "\n",
    "                                                        # the range function has upto 7 values. It does not include 7.\n",
    "roll_outcomes = range(1,7)\n",
    "                                                        # we get multiples of the roll_outcomes in case we repeat it 2 times.\n",
    "outcomes = product(roll_outcomes, repeat = 2)\n",
    "                                                        # we get a list of outcomes. \n",
    "print(list(outcomes))\n",
    "\n"
   ]
  },
  {
   "cell_type": "code",
   "execution_count": 403,
   "id": "7743b690-a976-4c71-8e96-493db55eba4d",
   "metadata": {},
   "outputs": [
    {
     "name": "stdout",
     "output_type": "stream",
     "text": [
      "Number of matching outcomes for (2, 5) or (5, 2): 2\n",
      "The probability of 2 and 5 coming once after another is: 0.05555555555555555\n"
     ]
    }
   ],
   "source": [
    "# We have to write the previous part again in this cell because once it is printed it is gone. \n",
    "# This time we convert outcomes to a list so that we do not have to worry about losing its values again. \n",
    "\n",
    "roll_outcomes = range(1, 7)\n",
    "outcomes = set(product(roll_outcomes, repeat=2))\n",
    "                            \n",
    "\n",
    "# This is how GUS did it. \n",
    "# Get the series of 1s generated by the for-loop each time a match is found.\n",
    "\n",
    "ones = (1 for outcome in outcomes if outcome == (2, 5) or outcome == (5, 2))\n",
    "\n",
    "#print (list(ones))    #remove this comment if you want to see the list.\n",
    "\n",
    "# Sum all the 1s you got.\n",
    "\n",
    "count = sum(ones)\n",
    "\n",
    "print(\"Number of matching outcomes for (2, 5) or (5, 2):\", count)\n",
    "\n",
    "probability = count/len(outcomes)\n",
    "\n",
    "print(\"The probability of 2 and 5 coming once after another is:\", probability)"
   ]
  },
  {
   "cell_type": "code",
   "execution_count": 405,
   "id": "2f2e2f22-1d49-4bef-921c-028729d41c9a",
   "metadata": {},
   "outputs": [
    {
     "name": "stdout",
     "output_type": "stream",
     "text": [
      "the union probability of A and B is 0.05555555555555555\n",
      "the joint probability of A and B is 0.05555555555555555\n",
      "the complement probability of A and B is 1.0\n"
     ]
    }
   ],
   "source": [
    "# the easy way of doing this is here:\n",
    "\n",
    "A = {2,5}\n",
    "B = {5,2}\n",
    "\n",
    "print (\"the union probability of A and B is\", len(A|B)/ len(outcomes))\n",
    "print (\"the joint probability of A and B is\", len(A&B)/ len(outcomes))\n",
    "print (\"the complement probability of A and B is\", len(outcomes-(A|B))/ len(outcomes))\n",
    "\n"
   ]
  },
  {
   "cell_type": "markdown",
   "id": "d96f5559-6189-4f04-8d97-33e3b2acfc25",
   "metadata": {},
   "source": [
    "# Chain Rule\n",
    "\n",
    "The chain rule in probability is a useful method for calculating the joint probability of a sequence of events by expressing it as a product of conditional probabilities.\n",
    "\n",
    "The chain rule breaks down the computation of a joint probability into a sequence of simpler conditional probabilities. It’s especially useful when dealing with a sequence of dependent events. Each event depends on the previous ones.\n",
    "\n",
    "\n",
    "For a set of events **( A_1, A_2, ..., A_n)**, the chain rule expresses the joint probability **P(A_1, A_2, ..., A_n)** as:\n",
    "\n",
    "    P(A_1, A_2, ..., A_n) = P(A_1) * P(A_2 | A_1) * P(A_3 | A_1, A_2) * ... * P(A_n | A_1, A_2, ..., A_{n-1})\n",
    "\n",
    "\n",
    "In simpler terms, this formula says that the joint probability of a sequence of events can be broken down as:\n",
    "\n",
    "- The probability of the first event P(A_1),\n",
    "- Times the probability of the second event given the first event P(A_2 | A_1),\n",
    "- Times the probability of the third event given the first two events P(A_3 | A_1, A_2),\n",
    "- And so on, for each subsequent event.\n",
    "\n",
    "### For Two Events:\n",
    "For just two events, (A) and (B), the chain rule simplifies to:\n",
    "\n",
    "            P(A,B) = P(A) * P(B|A)\n",
    "\n",
    "### For Three Events:\n",
    "For three events, (A), (B), and (C), it becomes:\n",
    "\n",
    "        P(A,B,C) = P(A) * P(B|A) * P(C|A,B)\n",
    "\n",
    "This breakdown helps us calculate the joint probability by considering each event in relation to the previous ones.\n",
    "\n",
    "### Example:\n",
    "If we want to find the joint probability of three events (A), (B), and (C):\n",
    "\n",
    "1. P(A) is the probability of (A) happening.\n",
    "2. P(B | A) is the probability of (B) happening given that (A) has occurred.\n",
    "3. P(C | A, B) is the probability of (C) happening given that both (A) and (B) have occurred.\n",
    "\n",
    "\n"
   ]
  },
  {
   "cell_type": "code",
   "execution_count": 440,
   "id": "6dd0f283-53ad-42c7-a28e-9a667c2c0c9e",
   "metadata": {},
   "outputs": [
    {
     "name": "stdout",
     "output_type": "stream",
     "text": [
      "The joint probability of A, B, and C is: 0.1000\n"
     ]
    }
   ],
   "source": [
    "# Define the individual probabilities\n",
    "\n",
    "A = {1, 2, 3, 4, 5, 6}            # Event A (universe of possible outcomes for A)\n",
    "B = {4, 5, 6, 7, 8}               # Event B (outcomes for B)\n",
    "C = {6, 7, 8, 9}                  # Event C (outcomes for C)\n",
    "\n",
    "AintB = A & B\n",
    "AintBintC = AintB & C\n",
    "\n",
    "\n",
    "\n",
    "# Calculate the probabilities based on the set sizes\n",
    "\n",
    "P_A = len(A) / 10                                             # Probability of A (assuming universe of 10 elements)\n",
    "P_B_given_A = len(AintB) / len(A)                             # Conditional Probability of B given A (A ∩ B / A)\n",
    "P_C_given_A_and_B = len(AintBintC) / len(AintB)               # Conditional Probability of C given A and B\n",
    "\n",
    "# Apply the chain rule to calculate the joint probability of A, B, and C\n",
    "# P(A, B, C) = P(A) * P(B|A) * P(C|A, B)\n",
    "\n",
    "P_A_B_C = P_A * P_B_given_A * P_C_given_A_and_B\n",
    "\n",
    "\n",
    "print(f\"The joint probability of A, B, and C is: {P_A_B_C:.4f}\")\n",
    "\n"
   ]
  },
  {
   "cell_type": "markdown",
   "id": "14bee70a-8d95-418a-a373-6e5317dc06df",
   "metadata": {},
   "source": [
    "# Markov Assupmtion\n",
    "\n",
    "The **Markov Assumption** refers to a simplifying assumption in probability theory and statistics, particularly in the context of stochastic processes such as Markov chains and Hidden Markov Models (HMMs).\n",
    "\n",
    "### **Definition:**\n",
    "The Markov Assumption states that the future state of a process depends only on its present state and not on its past states. In other words, the future is conditionally independent of the past, given the present.\n",
    "\n",
    "Mathematically, if (X_t) represents the state of a process at state (n), the Markov Assumption implies:\n",
    "\n",
    "                        P(X{n+1} | Xn)\n",
    "\n",
    "This means the probability of transitioning to the next state \\( X{n+1} \\) depends only on the current state \\( Xn \\), not on the sequence of states that preceded it.\n",
    "\n",
    "### **Example:**\n",
    "Imagine a random walk where a person moves between different positions on a line. The probability that they will move to a new position depends only on their current position, not on how they got there.\n",
    "\n",
    "If at state \\( n \\), they are at position \\( Xn \\), the probability of moving to a new position \\( X{n+1} \\) depends solely on where they are at \\( n \\) (i.e., \\( Xn \\)), and not on the entire sequence of positions they took to get to \\( Xn \\).\n",
    "\n",
    "### **Why is the Markov Assumption Useful?**\n",
    "- **Simplifies complex systems**: By assuming that the current state captures all relevant information, we can model systems more easily.\n",
    "- **Efficient computation**: In a Markov model, you only need to track the current state, reducing computational complexity.\n",
    "- **Common in machine learning**: The assumption is frequently used in models like Hidden Markov Models (HMMs) and Reinforcement Learning, where predicting future outcomes is based on the current state.\n",
    "\n",
    "### **Limitations:**\n",
    "The Markov Assumption is a simplification and may not hold in all situations. Real-world processes often have dependencies on past states (memory) that cannot be ignored. However, in cases where the assumption is reasonable, it can greatly simplify analysis and computations."
   ]
  },
  {
   "cell_type": "code",
   "execution_count": 573,
   "id": "cbae54a2-63a6-4f85-b131-b4421f3005b3",
   "metadata": {},
   "outputs": [
    {
     "name": "stdout",
     "output_type": "stream",
     "text": [
      "Initial state: Sunny\n",
      "Markov chain: ['A', 'B', 'A', 'B', 'B', 'B']\n"
     ]
    }
   ],
   "source": [
    "import random\n",
    "\n",
    "                                                            # Define the states (as sets A and B)\n",
    "states = ['A', 'B']\n",
    "                                                            # Define the transition probabilities (Markov Assumption)\n",
    "                                                            # The rows represent the current state, and the columns represent the next state.\n",
    "transition_matrix = {\n",
    "    'A': {'A': 0.7, 'B': 0.3},\n",
    "    'B': {'A': 0.4, 'B': 0.6}\n",
    "}\n",
    "                                                            # Function to determine the next state based on the current state and transition matrix\n",
    "def simulate_markov_chain(initial_state, steps):\n",
    "    current_state = initial_state\n",
    "    chain = [current_state]\n",
    "\n",
    "    for r in range(steps):\n",
    "        current_state = random.choices(states, weights=[transition_matrix[current_state][state] for state in states], k=1)[0]\n",
    "        chain.append(current_state)\n",
    "    \n",
    "    return chain\n",
    "\n",
    "\n",
    "# Call the Markov Function\n",
    "markov_chain = simulate_markov_chain('A', 5)\n",
    "\n",
    "# Print the results\n",
    "print(f\"Initial state: {initial_state}\")\n",
    "print(f\"Markov chain: {markov_chain}\")\n"
   ]
  },
  {
   "cell_type": "markdown",
   "id": "479bb146-ee59-46e9-87f4-523903db6e93",
   "metadata": {},
   "source": [
    "# Fun Weather Example:\n",
    "\n",
    "Here, we create a simple weather model where the weather at the next time step depends only on the current weather. The weather can be either \"Sunny\" or \"Rainy\"."
   ]
  },
  {
   "cell_type": "code",
   "execution_count": 575,
   "id": "896c8dbf-b479-466d-8eb8-a3dc6e95b0ad",
   "metadata": {},
   "outputs": [
    {
     "name": "stdout",
     "output_type": "stream",
     "text": [
      "Initial state: Sunny\n",
      "Markov chain: ['Sunny', 'Sunny', 'Sunny', 'Sunny', 'Sunny', 'Sunny']\n"
     ]
    }
   ],
   "source": [
    "import random\n",
    "\n",
    "states = ['Sunny', 'Rainy', 'Snowy']\n",
    "\n",
    "transition_matrix = {\n",
    "    'Sunny': {'Sunny': 0.6, 'Rainy': 0.3, 'Snowy': 0.1},\n",
    "    'Rainy': {'Sunny': 0.4, 'Rainy': 0.4, 'Snowy': 0.2},\n",
    "    'Snowy': {'Sunny': 0.2, 'Rainy': 0.5, 'Snowy': 0.3},\n",
    "}\n",
    "\n",
    "def simulate_markov_chain(initial_state, steps):\n",
    "    states = list(transition_matrix.keys())\n",
    "    current_state = initial_state\n",
    "    state_chain = [current_state]\n",
    "\n",
    "    for r in range(steps):\n",
    "        current_state = random.choices(states, weights=[transition_matrix[current_state][state] for state in states], k=1 )[0]\n",
    "        state_chain.append(current_state)\n",
    "    \n",
    "    return state_chain\n",
    "\n",
    "\n",
    "# Call the markov function\n",
    "markov_chain = simulate_markov_chain('Sunny', 5)\n",
    "\n",
    "\n",
    "print(f\"Initial state: {initial_state}\")\n",
    "print(f\"Markov chain: {markov_chain}\")\n"
   ]
  },
  {
   "cell_type": "markdown",
   "id": "02a11dbe-a439-40dd-8fca-0dd55c3626bd",
   "metadata": {},
   "source": [
    "# Bayes' Theorem\n",
    "\n",
    "**Bayes' Theorem** is a fundamental theorem in probability theory that describes the relationship between conditional probabilities. It allows us to update the probability estimate of an event based on new evidence. \n",
    "Bayes' Theorem essentially provides a way to revise our belief about an event \\( A \\) after taking into account the occurrence of event \\( B \\). It allows us to move from prior knowledge to an updated or posterior belief.\n",
    "\n",
    "\n",
    "### Formula\n",
    "\n",
    "P(A|B) = $\\frac{P(B|A) * P(A)}{P(B)}$\n",
    "\n",
    "\n",
    "Where:\n",
    "-  P(A|B)  is the **posterior probability**, the probability of event \\( A \\) occurring given that \\( B \\) is true.\n",
    "-  P(B|A)  is the **likelihood**, the probability of observing \\( B \\) given that \\( A \\) is true.\n",
    "-  P(A)  is the **prior probability**, the initial probability of \\( A \\) occurring before considering \\( B \\).\n",
    "-  P(B)  is the **marginal probability** of \\( B \\), the total probability of observing \\( B \\).\n",
    "\n",
    "\n"
   ]
  },
  {
   "cell_type": "code",
   "execution_count": 412,
   "id": "78c4e414-945a-4e1e-959f-947fae947e9c",
   "metadata": {},
   "outputs": [
    {
     "name": "stdout",
     "output_type": "stream",
     "text": [
      "The probability of having the disease given a positive test is: 0.1667\n"
     ]
    }
   ],
   "source": [
    "\n",
    "# Given probabilities\n",
    "P_D = 0.01                      # Prior: Probability of having the disease\n",
    "P_T_given_D = 0.99              # Likelihood: Probability of a positive test if diseased\n",
    "P_T_given_not_D = 0.05          # Probability of a positive test if not diseased\n",
    "P_not_D = 1 - P_D               # Complement: Probability of not having the disease\n",
    "                                \n",
    "                                # Calculate the marginal probability of a positive test (P(T))\n",
    "\n",
    "P_T = P_T_given_D * P_D + P_T_given_not_D * P_not_D\n",
    "\n",
    "                                # Apply Bayes' Theorem to calculate P(D|T)\n",
    "\n",
    "P_D_given_T = (P_T_given_D * P_D) / P_T\n",
    "\n",
    "print(f\"The probability of having the disease given a positive test is: {P_D_given_T:.4f}\")\n"
   ]
  }
 ],
 "metadata": {
  "kernelspec": {
   "display_name": "Python 3 (ipykernel)",
   "language": "python",
   "name": "python3"
  },
  "language_info": {
   "codemirror_mode": {
    "name": "ipython",
    "version": 3
   },
   "file_extension": ".py",
   "mimetype": "text/x-python",
   "name": "python",
   "nbconvert_exporter": "python",
   "pygments_lexer": "ipython3",
   "version": "3.12.4"
  }
 },
 "nbformat": 4,
 "nbformat_minor": 5
}

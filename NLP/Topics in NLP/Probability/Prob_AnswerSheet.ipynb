{
 "cells": [
  {
   "cell_type": "markdown",
   "id": "45ddfbd6-508e-4f75-ae15-cfe1b2b8842e",
   "metadata": {},
   "source": [
    "# Probability Answer Sheet\n",
    "\n",
    "Solve the following questions to practice the concepts you have learned. "
   ]
  },
  {
   "cell_type": "markdown",
   "id": "3d15e616-b8e7-42a9-ad88-0079955e867f",
   "metadata": {},
   "source": [
    "## Set Operations\n",
    "\n",
    "### Question 1:\n",
    " Write a Python function that takes two sets as input and returns their intersection, union, and complement (assuming a universal set is provided)."
   ]
  },
  {
   "cell_type": "code",
   "execution_count": 129,
   "id": "d5f6d771-33b4-4b72-83c4-236b9bbc24e0",
   "metadata": {},
   "outputs": [],
   "source": [
    "def set_operations(A, B, U):\n",
    "    \n",
    "    # Your Code Here\n",
    "    intersection = A&B\n",
    "    union = A|B\n",
    "    comp_A = U-A\n",
    "    comp_B = U-B\n",
    "\n",
    "    return intersection, union, comp_A, comp_B\n"
   ]
  },
  {
   "cell_type": "code",
   "execution_count": 131,
   "id": "d79b21d0-df2b-49e1-9c80-bb4c87995b0d",
   "metadata": {},
   "outputs": [],
   "source": [
    "\n",
    "A = {1, 2, 3}\n",
    "B = {3, 4, 5}\n",
    "U = {1, 2, 3, 4, 5, 6}\n",
    "\n",
    "# Perform set operations\n",
    "intersection, union, comp_A, comp_B = set_operations(A, B, U)\n",
    "\n",
    "assert intersection == {3}, \"Test failed: intersection\"\n",
    "assert union == {1, 2, 3, 4, 5}, \"Test failed: union\"\n",
    "assert comp_A == {4, 5, 6}, \"Test failed: complement of A\"\n",
    "assert comp_B == {1, 2, 6}, \"Test failed: complement of B\"\n"
   ]
  },
  {
   "cell_type": "markdown",
   "id": "03aa080c-83db-4aa8-b40f-c9111e1694a4",
   "metadata": {},
   "source": [
    "### Question 2\n",
    "Convert a list into a set"
   ]
  },
  {
   "cell_type": "code",
   "execution_count": 170,
   "id": "f55115b7-27f8-4d08-a0e3-ec475bf393ef",
   "metadata": {},
   "outputs": [],
   "source": [
    "def create_set(A):\n",
    "\n",
    "    getset = set(A)\n",
    "\n",
    "    return getset"
   ]
  },
  {
   "cell_type": "code",
   "execution_count": 172,
   "id": "a8fdb906-e32c-413c-9823-3ef8cc2ce50c",
   "metadata": {},
   "outputs": [],
   "source": [
    "getset=create_set([1,2,3])\n",
    "assert getset == {1, 2, 3}"
   ]
  },
  {
   "cell_type": "markdown",
   "id": "f8cae84c-115f-4882-b33d-fb902281f525",
   "metadata": {},
   "source": [
    "## Probability\n",
    "\n",
    "Probability Calculations\n",
    "\n",
    "### Questions 1:\n",
    "Write a function to calculate marginal probabilities for A and B. Also calculate their intersection probabilities (AintB) and union probabilities (AUB). "
   ]
  },
  {
   "cell_type": "code",
   "execution_count": 233,
   "id": "1771ca73-0c96-4e98-a7c3-ecd7b0f6db52",
   "metadata": {},
   "outputs": [],
   "source": [
    "def probability_calculations(A,B,U):\n",
    "    \n",
    "    P_A = len(A)/len(U)\n",
    "    P_B = len(B)/len(U)\n",
    "\n",
    "    AintB = A&B\n",
    "    AUB = A|B\n",
    "\n",
    "    P_AintB = len(AintB)/len(U)\n",
    "    P_AUB = len(AUB)/len(U)\n",
    "\n",
    " \n",
    "    return P_A, P_B, P_AintB, P_AUB\n",
    "    \n",
    "    \n"
   ]
  },
  {
   "cell_type": "code",
   "execution_count": 235,
   "id": "59cff1b0-7cc3-4d14-b237-15768ffa251d",
   "metadata": {},
   "outputs": [],
   "source": [
    "A = {2, 4, 6}\n",
    "B = {1, 2, 3, 4}\n",
    "U = {1,2,3,4,5,6}\n",
    "\n",
    "P_A, P_B, P_AintB, P_AUB = probability_calculations(A,B,U)\n",
    "\n",
    "assert int(P_A * 100) == 50, f\"Expected {int(P_A * 100)}, got {int(P_A * 100)}\"\n",
    "assert int(P_B * 100) == 66, f\"Expected {int(P_B * 100)}, got {int(P_B * 100)}\"\n",
    "assert int(P_AintB * 100) == 33, f\"Expected {int(P_AintB * 100)}, got {int(P_AintB * 100)}\"\n",
    "assert int(P_AUB * 100) == 83, f\"Expected {int(P_AUB * 100)}, got {int(P_AUB * 100)}\"\n",
    "\n"
   ]
  },
  {
   "cell_type": "markdown",
   "id": "936fca7e-c425-4cad-8d63-de3956ec1e6e",
   "metadata": {},
   "source": [
    "### Question 2:\n",
    "Write a function to calculate the conditional probabilities for A and B. Use values from the previous function."
   ]
  },
  {
   "cell_type": "code",
   "execution_count": 287,
   "id": "330180ef-dd3b-4c7e-8401-01ba5e1f1e2d",
   "metadata": {},
   "outputs": [],
   "source": [
    "\n",
    "def probs(PB, PAintB):\n",
    "\n",
    "    cond_prob = PAintB/PB\n",
    "    \n",
    "    return cond_prob"
   ]
  },
  {
   "cell_type": "code",
   "execution_count": 291,
   "id": "d8369528-5f26-49ba-a049-8e4fc2bff2e2",
   "metadata": {},
   "outputs": [],
   "source": [
    "A = {2, 4, 6}\n",
    "B = {1, 2, 3, 4}\n",
    "U = {1,2,3,4,5,6}\n",
    "\n",
    "P_A, P_B, P_AintB, P_AUB = probability_calculations(A,B,U)\n",
    "assert probs(P_B, P_AintB) == 0.5\n"
   ]
  },
  {
   "cell_type": "markdown",
   "id": "f31d7efd-510a-4da4-8bfa-65f1512b729d",
   "metadata": {},
   "source": [
    "## Chain Rule Implementation \n",
    "\n",
    "### Question 1: \n",
    "Write a function that uses the chain rule to calculate the joint probability of three events A, B, and C, given their individual probabilities and the conditional probabilities."
   ]
  },
  {
   "cell_type": "code",
   "execution_count": 296,
   "id": "e114cb8f-e951-47f3-b773-834323311ff0",
   "metadata": {},
   "outputs": [],
   "source": [
    "def chain_rule(P_A, P_B_given_A, P_C_given_A_and_B):\n",
    "    \n",
    "    # Your code here\n",
    "    \n",
    "    return joint_probability\n"
   ]
  },
  {
   "cell_type": "code",
   "execution_count": null,
   "id": "3115a642-e54c-4d3c-9b83-6d374391dd92",
   "metadata": {},
   "outputs": [],
   "source": [
    "P_A = 0.5\n",
    "P_B_given_A = 0.6\n",
    "P_C_given_A_and_B = 0.7\n",
    "joint_probability = chain_rule(P_A, P_B_given_A, P_C_given_A_and_B)\n",
    "expected_joint_probability = P_A * P_B_given_A * P_C_given_A_and_B\n",
    "assert joint_probability == expected_joint_probability, f\"Test failed: expected {expected_joint_probability}, got {joint_probability}\""
   ]
  },
  {
   "cell_type": "markdown",
   "id": "82788112-0e7a-42ac-a33c-b4a6e70f907e",
   "metadata": {},
   "source": [
    "## Markov Chain Simulation \n",
    "\n",
    "### Question 1: \n",
    "Implement a simple Markov chain simulation based on a transition matrix. Create a function that simulates the state transitions for a given number of steps starting from an initial state."
   ]
  },
  {
   "cell_type": "code",
   "execution_count": 407,
   "id": "e5a4d809-837e-4f78-9c4a-333faec88444",
   "metadata": {},
   "outputs": [],
   "source": [
    "import random\n",
    "\n",
    "\n",
    "def simulate_markov_chain(initial_state, transition_matrix, steps):\n",
    "    states = list(transition_matrix.keys())\n",
    "    current_state = initial_state\n",
    "    state_chain = [current_state]\n",
    "\n",
    "    for _ in range(steps):\n",
    "        # Choose the next state based on the current state's transition probabilities\n",
    "        current_state = random.choices(\n",
    "            states,\n",
    "            weights=[\n",
    "                transition_matrix[current_state][state] for state in states\n",
    "            ],\n",
    "            k=1\n",
    "        )[0]\n",
    "        state_chain.append(current_state)\n",
    "    \n",
    "    return state_chain\n",
    "\n"
   ]
  },
  {
   "cell_type": "code",
   "execution_count": 417,
   "id": "7cd40c79-48a9-4301-9a5a-a98d2e4a91be",
   "metadata": {},
   "outputs": [
    {
     "name": "stdout",
     "output_type": "stream",
     "text": [
      "State chain: ['Happy', 'Numb', 'Sad', 'Happy', 'Happy', 'Happy']\n"
     ]
    }
   ],
   "source": [
    "initial_state = 'Happy'\n",
    "transition_matrix = {\n",
    "    'Happy': {'Happy': 0.6, 'Sad': 0.3, 'Numb': 0.1},\n",
    "    'Sad': {'Happy': 0.4, 'Sad': 0.4, 'Numb': 0.2},\n",
    "    'Numb': {'Happy': 0.2, 'Sad': 0.5, 'Numb': 0.3},\n",
    "}\n",
    "\n",
    "state_chain = simulate_markov_chain(initial_state, steps=5)\n",
    "assert len(state_chain) == 6, \"Test failed: The state chain should have 6 states including the initial state.\"\n",
    "for state in state_chain:\n",
    "    assert state in transition_matrix, f\"Test failed: State '{state}' is not defined in the transition matrix.\"\n",
    "\n",
    "print(\"State chain:\", state_chain)"
   ]
  },
  {
   "cell_type": "code",
   "execution_count": null,
   "id": "9c8ffae7-d1ab-4055-868f-de86611958cb",
   "metadata": {},
   "outputs": [],
   "source": []
  }
 ],
 "metadata": {
  "kernelspec": {
   "display_name": "Python 3 (ipykernel)",
   "language": "python",
   "name": "python3"
  },
  "language_info": {
   "codemirror_mode": {
    "name": "ipython",
    "version": 3
   },
   "file_extension": ".py",
   "mimetype": "text/x-python",
   "name": "python",
   "nbconvert_exporter": "python",
   "pygments_lexer": "ipython3",
   "version": "3.12.4"
  }
 },
 "nbformat": 4,
 "nbformat_minor": 5
}
